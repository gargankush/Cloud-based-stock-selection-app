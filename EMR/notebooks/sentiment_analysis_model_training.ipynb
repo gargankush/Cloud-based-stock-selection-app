{
 "cells": [
  {
   "cell_type": "code",
   "execution_count": 1,
   "metadata": {
    "scrolled": false
   },
   "outputs": [
    {
     "data": {
      "application/vnd.jupyter.widget-view+json": {
       "model_id": "83932419233544c1bf05683f7f79d188",
       "version_major": 2,
       "version_minor": 0
      },
      "text/plain": [
       "VBox()"
      ]
     },
     "metadata": {},
     "output_type": "display_data"
    },
    {
     "name": "stdout",
     "output_type": "stream",
     "text": [
      "Starting Spark application\n"
     ]
    },
    {
     "data": {
      "text/html": [
       "<table>\n",
       "<tr><th>ID</th><th>YARN Application ID</th><th>Kind</th><th>State</th><th>Spark UI</th><th>Driver log</th><th>Current session?</th></tr><tr><td>7</td><td>application_1604386898051_0008</td><td>pyspark</td><td>idle</td><td><a target=\"_blank\" href=\"http://ip-172-31-74-45.ec2.internal:20888/proxy/application_1604386898051_0008/\">Link</a></td><td><a target=\"_blank\" href=\"http://ip-172-31-75-144.ec2.internal:8042/node/containerlogs/container_1604386898051_0008_01_000001/livy\">Link</a></td><td>✔</td></tr></table>"
      ],
      "text/plain": [
       "<IPython.core.display.HTML object>"
      ]
     },
     "metadata": {},
     "output_type": "display_data"
    },
    {
     "data": {
      "application/vnd.jupyter.widget-view+json": {
       "model_id": "",
       "version_major": 2,
       "version_minor": 0
      },
      "text/plain": [
       "FloatProgress(value=0.0, bar_style='info', description='Progress:', layout=Layout(height='25px', width='50%'),…"
      ]
     },
     "metadata": {},
     "output_type": "display_data"
    },
    {
     "name": "stdout",
     "output_type": "stream",
     "text": [
      "SparkSession available as 'spark'.\n"
     ]
    },
    {
     "data": {
      "application/vnd.jupyter.widget-view+json": {
       "model_id": "",
       "version_major": 2,
       "version_minor": 0
      },
      "text/plain": [
       "FloatProgress(value=0.0, bar_style='info', description='Progress:', layout=Layout(height='25px', width='50%'),…"
      ]
     },
     "metadata": {},
     "output_type": "display_data"
    }
   ],
   "source": [
    "from pyspark.sql import SparkSession\n",
    "from pyspark.ml.feature import StopWordsRemover, RegexTokenizer, Word2Vec, Word2VecModel\n",
    "from pyspark.ml.evaluation import BinaryClassificationEvaluator\n",
    "from pyspark.ml.classification import MultilayerPerceptronClassifier\n",
    "from pyspark.sql.functions import col,regexp_replace, udf\n",
    "from pyspark.sql.types import *\n",
    "\n",
    "bucket_name = \"web-app-project\"\n",
    "spark = SparkSession\\\n",
    "    .builder\\\n",
    "    .appName(\"sentiment_analysis\")\\\n",
    "    .getOrCreate()\n",
    "\n",
    "tweets_df = spark.read.csv(\"s3://\" + bucket_name + \"/tweets.csv\", header=False)"
   ]
  },
  {
   "cell_type": "code",
   "execution_count": 2,
   "metadata": {},
   "outputs": [
    {
     "data": {
      "application/vnd.jupyter.widget-view+json": {
       "model_id": "5b727df866eb440d9a829aa33211d763",
       "version_major": 2,
       "version_minor": 0
      },
      "text/plain": [
       "VBox()"
      ]
     },
     "metadata": {},
     "output_type": "display_data"
    },
    {
     "data": {
      "application/vnd.jupyter.widget-view+json": {
       "model_id": "",
       "version_major": 2,
       "version_minor": 0
      },
      "text/plain": [
       "FloatProgress(value=0.0, bar_style='info', description='Progress:', layout=Layout(height='25px', width='50%'),…"
      ]
     },
     "metadata": {},
     "output_type": "display_data"
    },
    {
     "name": "stdout",
     "output_type": "stream",
     "text": [
      "+---+----------+--------------------+--------+---------------+--------------------+\n",
      "|_c0|       _c1|                 _c2|     _c3|            _c4|                 _c5|\n",
      "+---+----------+--------------------+--------+---------------+--------------------+\n",
      "|  0|1467810369|Mon Apr 06 22:19:...|NO_QUERY|_TheSpecialOne_|@switchfoot http:...|\n",
      "|  0|1467810672|Mon Apr 06 22:19:...|NO_QUERY|  scotthamilton|is upset that he ...|\n",
      "|  0|1467810917|Mon Apr 06 22:19:...|NO_QUERY|       mattycus|@Kenichan I dived...|\n",
      "|  0|1467811184|Mon Apr 06 22:19:...|NO_QUERY|        ElleCTF|my whole body fee...|\n",
      "|  0|1467811193|Mon Apr 06 22:19:...|NO_QUERY|         Karoli|@nationwideclass ...|\n",
      "|  0|1467811372|Mon Apr 06 22:20:...|NO_QUERY|       joy_wolf|@Kwesidei not the...|\n",
      "|  0|1467811592|Mon Apr 06 22:20:...|NO_QUERY|        mybirch|         Need a hug |\n",
      "|  0|1467811594|Mon Apr 06 22:20:...|NO_QUERY|           coZZ|@LOLTrish hey  lo...|\n",
      "|  0|1467811795|Mon Apr 06 22:20:...|NO_QUERY|2Hood4Hollywood|@Tatiana_K nope t...|\n",
      "|  0|1467812025|Mon Apr 06 22:20:...|NO_QUERY|        mimismo|@twittera que me ...|\n",
      "|  0|1467812416|Mon Apr 06 22:20:...|NO_QUERY| erinx3leannexo|spring break in p...|\n",
      "|  0|1467812579|Mon Apr 06 22:20:...|NO_QUERY|   pardonlauren|I just re-pierced...|\n",
      "|  0|1467812723|Mon Apr 06 22:20:...|NO_QUERY|           TLeC|@caregiving I cou...|\n",
      "|  0|1467812771|Mon Apr 06 22:20:...|NO_QUERY|robrobbierobert|@octolinz16 It it...|\n",
      "|  0|1467812784|Mon Apr 06 22:20:...|NO_QUERY|    bayofwolves|@smarrison i woul...|\n",
      "|  0|1467812799|Mon Apr 06 22:20:...|NO_QUERY|     HairByJess|@iamjazzyfizzle I...|\n",
      "|  0|1467812964|Mon Apr 06 22:20:...|NO_QUERY| lovesongwriter|Hollis' death sce...|\n",
      "|  0|1467813137|Mon Apr 06 22:20:...|NO_QUERY|       armotley|about to file taxes |\n",
      "|  0|1467813579|Mon Apr 06 22:20:...|NO_QUERY|     starkissed|@LettyA ahh ive a...|\n",
      "|  0|1467813782|Mon Apr 06 22:20:...|NO_QUERY|      gi_gi_bee|@FakerPattyPattz ...|\n",
      "+---+----------+--------------------+--------+---------------+--------------------+\n",
      "only showing top 20 rows"
     ]
    }
   ],
   "source": [
    "tweets_df.show()"
   ]
  },
  {
   "cell_type": "code",
   "execution_count": 3,
   "metadata": {},
   "outputs": [
    {
     "data": {
      "application/vnd.jupyter.widget-view+json": {
       "model_id": "6467579089ef460eb7639781c93345c9",
       "version_major": 2,
       "version_minor": 0
      },
      "text/plain": [
       "VBox()"
      ]
     },
     "metadata": {},
     "output_type": "display_data"
    },
    {
     "data": {
      "application/vnd.jupyter.widget-view+json": {
       "model_id": "",
       "version_major": 2,
       "version_minor": 0
      },
      "text/plain": [
       "FloatProgress(value=0.0, bar_style='info', description='Progress:', layout=Layout(height='25px', width='50%'),…"
      ]
     },
     "metadata": {},
     "output_type": "display_data"
    }
   ],
   "source": [
    "tweets_df = tweets_df.withColumnRenamed(\"_c0\", \"sentiment\") \\\n",
    ".withColumnRenamed(\"_c5\", \"tweets\")"
   ]
  },
  {
   "cell_type": "code",
   "execution_count": 4,
   "metadata": {},
   "outputs": [
    {
     "data": {
      "application/vnd.jupyter.widget-view+json": {
       "model_id": "b3904f419cac4c57b698b276a11f9f2d",
       "version_major": 2,
       "version_minor": 0
      },
      "text/plain": [
       "VBox()"
      ]
     },
     "metadata": {},
     "output_type": "display_data"
    },
    {
     "data": {
      "application/vnd.jupyter.widget-view+json": {
       "model_id": "",
       "version_major": 2,
       "version_minor": 0
      },
      "text/plain": [
       "FloatProgress(value=0.0, bar_style='info', description='Progress:', layout=Layout(height='25px', width='50%'),…"
      ]
     },
     "metadata": {},
     "output_type": "display_data"
    }
   ],
   "source": [
    "tweets_df = tweets_df.withColumn(\"cleaned_tweets\", regexp_replace(col(\"tweets\"), \"http.+|@.|\\n|RT|\\d+\", ' '))\n",
    "# All words are lowercase and tokenized\n",
    "tweets_df = RegexTokenizer(inputCol=\"cleaned_tweets\", outputCol=\"lowercase_tweets\", pattern=\"\\\\W\").transform(tweets_df)\n",
    "# We remove the StopWords\n",
    "tweets_df = StopWordsRemover(inputCol=\"lowercase_tweets\", outputCol=\"processed_tweets\").transform(tweets_df)\n",
    "# We drop the unused columns\n",
    "tweets_df = tweets_df.drop(\"cleaned_tweets\", \"lowercase_tweets\", \"_c1\", \"_c2\", \"_c3\", \"_c4\")"
   ]
  },
  {
   "cell_type": "code",
   "execution_count": 5,
   "metadata": {},
   "outputs": [
    {
     "data": {
      "application/vnd.jupyter.widget-view+json": {
       "model_id": "cb1a00fe8169466f9d81af73439826f7",
       "version_major": 2,
       "version_minor": 0
      },
      "text/plain": [
       "VBox()"
      ]
     },
     "metadata": {},
     "output_type": "display_data"
    },
    {
     "data": {
      "application/vnd.jupyter.widget-view+json": {
       "model_id": "",
       "version_major": 2,
       "version_minor": 0
      },
      "text/plain": [
       "FloatProgress(value=0.0, bar_style='info', description='Progress:', layout=Layout(height='25px', width='50%'),…"
      ]
     },
     "metadata": {},
     "output_type": "display_data"
    },
    {
     "name": "stdout",
     "output_type": "stream",
     "text": [
      "+---------+--------------------+--------------------+\n",
      "|sentiment|              tweets|    processed_tweets|\n",
      "+---------+--------------------+--------------------+\n",
      "|        0|@switchfoot http:...|         [witchfoot]|\n",
      "|        0|is upset that he ...|[upset, update, f...|\n",
      "|        0|@Kenichan I dived...|[enichan, dived, ...|\n",
      "|        0|my whole body fee...|[whole, body, fee...|\n",
      "|        0|@nationwideclass ...|[ationwideclass, ...|\n",
      "|        0|@Kwesidei not the...|[wesidei, whole, ...|\n",
      "|        0|         Need a hug |         [need, hug]|\n",
      "|        0|@LOLTrish hey  lo...|[oltrish, hey, lo...|\n",
      "|        0|@Tatiana_K nope t...|[atiana_k, nope, ...|\n",
      "|        0|@twittera que me ...|[wittera, que, mu...|\n",
      "|        0|spring break in p...|[spring, break, p...|\n",
      "|        0|I just re-pierced...| [re, pierced, ears]|\n",
      "|        0|@caregiving I cou...|[aregiving, could...|\n",
      "|        0|@octolinz16 It it...|[ctolinz, counts,...|\n",
      "|        0|@smarrison i woul...|[marrison, ve, fi...|\n",
      "|        0|@iamjazzyfizzle I...|[amjazzyfizzle, w...|\n",
      "|        0|Hollis' death sce...|[hollis, death, s...|\n",
      "|        0|about to file taxes |       [file, taxes]|\n",
      "|        0|@LettyA ahh ive a...|[ettya, ahh, ive,...|\n",
      "|        0|@FakerPattyPattz ...|[akerpattypattz, ...|\n",
      "+---------+--------------------+--------------------+\n",
      "only showing top 20 rows"
     ]
    }
   ],
   "source": [
    "tweets_df.show()"
   ]
  },
  {
   "cell_type": "code",
   "execution_count": 6,
   "metadata": {},
   "outputs": [
    {
     "data": {
      "application/vnd.jupyter.widget-view+json": {
       "model_id": "0d527c214f834cacbad11426c437fd6f",
       "version_major": 2,
       "version_minor": 0
      },
      "text/plain": [
       "VBox()"
      ]
     },
     "metadata": {},
     "output_type": "display_data"
    },
    {
     "data": {
      "application/vnd.jupyter.widget-view+json": {
       "model_id": "",
       "version_major": 2,
       "version_minor": 0
      },
      "text/plain": [
       "FloatProgress(value=0.0, bar_style='info', description='Progress:', layout=Layout(height='25px', width='50%'),…"
      ]
     },
     "metadata": {},
     "output_type": "display_data"
    }
   ],
   "source": [
    "# We define the NLP model\n",
    "word2Vec_tweets = Word2Vec(vectorSize=300, maxIter=5, inputCol=\"processed_tweets\", outputCol=\"features\")\n",
    "\n",
    "# We train the NLP model\n",
    "tweets_model = word2Vec_tweets.fit(tweets_df)\n",
    "\n",
    "# We save the model for the script\n",
    "model_path = \"s3://\" + bucket_name + \"/Word2Vec\"\n",
    "tweets_model.save(model_path)\n",
    "\n",
    "# We add the features columns : it is the average of the words' vectors for each tweet\n",
    "tweets_df = tweets_model.transform(tweets_df)"
   ]
  },
  {
   "cell_type": "code",
   "execution_count": 7,
   "metadata": {
    "scrolled": true
   },
   "outputs": [
    {
     "data": {
      "application/vnd.jupyter.widget-view+json": {
       "model_id": "74592477ce2946eab09a73aaf58639fa",
       "version_major": 2,
       "version_minor": 0
      },
      "text/plain": [
       "VBox()"
      ]
     },
     "metadata": {},
     "output_type": "display_data"
    },
    {
     "data": {
      "application/vnd.jupyter.widget-view+json": {
       "model_id": "",
       "version_major": 2,
       "version_minor": 0
      },
      "text/plain": [
       "FloatProgress(value=0.0, bar_style='info', description='Progress:', layout=Layout(height='25px', width='50%'),…"
      ]
     },
     "metadata": {},
     "output_type": "display_data"
    },
    {
     "name": "stdout",
     "output_type": "stream",
     "text": [
      "+---------+--------------------+--------------------+--------------------+\n",
      "|sentiment|              tweets|    processed_tweets|            features|\n",
      "+---------+--------------------+--------------------+--------------------+\n",
      "|        0|@switchfoot http:...|         [witchfoot]|[-0.0217530820518...|\n",
      "|        0|is upset that he ...|[upset, update, f...|[0.01698558167977...|\n",
      "|        0|@Kenichan I dived...|[enichan, dived, ...|[0.03277167000342...|\n",
      "|        0|my whole body fee...|[whole, body, fee...|[-8.4388318161169...|\n",
      "|        0|@nationwideclass ...|[ationwideclass, ...|[0.04142366405576...|\n",
      "|        0|@Kwesidei not the...|[wesidei, whole, ...|[-0.0357014524439...|\n",
      "|        0|         Need a hug |         [need, hug]|[-0.0815076828002...|\n",
      "|        0|@LOLTrish hey  lo...|[oltrish, hey, lo...|[-0.0255299146072...|\n",
      "|        0|@Tatiana_K nope t...|[atiana_k, nope, ...|[0.07791925345857...|\n",
      "|        0|@twittera que me ...|[wittera, que, mu...|[0.10993757843971...|\n",
      "|        0|spring break in p...|[spring, break, p...|[-0.0666712627746...|\n",
      "|        0|I just re-pierced...| [re, pierced, ears]|[0.22341997114320...|\n",
      "|        0|@caregiving I cou...|[aregiving, could...|[0.09404486604034...|\n",
      "|        0|@octolinz16 It it...|[ctolinz, counts,...|[0.01781157377575...|\n",
      "|        0|@smarrison i woul...|[marrison, ve, fi...|[0.08982113925740...|\n",
      "|        0|@iamjazzyfizzle I...|[amjazzyfizzle, w...|[0.07969553875071...|\n",
      "|        0|Hollis' death sce...|[hollis, death, s...|[0.10549890808761...|\n",
      "|        0|about to file taxes |       [file, taxes]|[0.16470836848020...|\n",
      "|        0|@LettyA ahh ive a...|[ettya, ahh, ive,...|[0.02185692780120...|\n",
      "|        0|@FakerPattyPattz ...|[akerpattypattz, ...|[0.03476295394024...|\n",
      "+---------+--------------------+--------------------+--------------------+\n",
      "only showing top 20 rows"
     ]
    }
   ],
   "source": [
    "tweets_df.show()"
   ]
  },
  {
   "cell_type": "code",
   "execution_count": 8,
   "metadata": {},
   "outputs": [
    {
     "data": {
      "application/vnd.jupyter.widget-view+json": {
       "model_id": "092e87a1f7f94b459b398d72286b9025",
       "version_major": 2,
       "version_minor": 0
      },
      "text/plain": [
       "VBox()"
      ]
     },
     "metadata": {},
     "output_type": "display_data"
    },
    {
     "data": {
      "application/vnd.jupyter.widget-view+json": {
       "model_id": "",
       "version_major": 2,
       "version_minor": 0
      },
      "text/plain": [
       "FloatProgress(value=0.0, bar_style='info', description='Progress:', layout=Layout(height='25px', width='50%'),…"
      ]
     },
     "metadata": {},
     "output_type": "display_data"
    }
   ],
   "source": [
    "tweets_df = tweets_df.withColumn(\"sentiment\", col(\"sentiment\").cast(FloatType()))\n",
    "# we replace the 4 sentiment value by 1\n",
    "zero_or_one = udf(lambda x:\"1\" if x == 4 else \"0\", StringType())\n",
    "tweets_df = tweets_df.withColumn(\"sentiment\", zero_or_one(\"sentiment\"))\n",
    "tweets_df = tweets_df.withColumn(\"sentiment\", col(\"sentiment\").cast(IntegerType()))"
   ]
  },
  {
   "cell_type": "code",
   "execution_count": 9,
   "metadata": {},
   "outputs": [
    {
     "data": {
      "application/vnd.jupyter.widget-view+json": {
       "model_id": "b28b53c2dfe74ecd9f2b62e570bd515e",
       "version_major": 2,
       "version_minor": 0
      },
      "text/plain": [
       "VBox()"
      ]
     },
     "metadata": {},
     "output_type": "display_data"
    },
    {
     "data": {
      "application/vnd.jupyter.widget-view+json": {
       "model_id": "",
       "version_major": 2,
       "version_minor": 0
      },
      "text/plain": [
       "FloatProgress(value=0.0, bar_style='info', description='Progress:', layout=Layout(height='25px', width='50%'),…"
      ]
     },
     "metadata": {},
     "output_type": "display_data"
    }
   ],
   "source": [
    "# We train the classification model\n",
    "clf = MultilayerPerceptronClassifier(labelCol=\"sentiment\", featuresCol=\"features\", layers=[300, 64, 2])\n",
    "train_data, test_data = tweets_df.randomSplit([0.8, 0.2])\n",
    "clf_model = clf.fit(train_data)"
   ]
  },
  {
   "cell_type": "code",
   "execution_count": 10,
   "metadata": {},
   "outputs": [
    {
     "data": {
      "application/vnd.jupyter.widget-view+json": {
       "model_id": "80eef8b35ea54656a30387dfdff7e3fd",
       "version_major": 2,
       "version_minor": 0
      },
      "text/plain": [
       "VBox()"
      ]
     },
     "metadata": {},
     "output_type": "display_data"
    },
    {
     "data": {
      "application/vnd.jupyter.widget-view+json": {
       "model_id": "",
       "version_major": 2,
       "version_minor": 0
      },
      "text/plain": [
       "FloatProgress(value=0.0, bar_style='info', description='Progress:', layout=Layout(height='25px', width='50%'),…"
      ]
     },
     "metadata": {},
     "output_type": "display_data"
    }
   ],
   "source": [
    "predictions = clf_model.transform(test_data)"
   ]
  },
  {
   "cell_type": "code",
   "execution_count": 11,
   "metadata": {},
   "outputs": [
    {
     "data": {
      "application/vnd.jupyter.widget-view+json": {
       "model_id": "4436ddb8a5244a2eaf751c9f03ce2b78",
       "version_major": 2,
       "version_minor": 0
      },
      "text/plain": [
       "VBox()"
      ]
     },
     "metadata": {},
     "output_type": "display_data"
    },
    {
     "data": {
      "application/vnd.jupyter.widget-view+json": {
       "model_id": "",
       "version_major": 2,
       "version_minor": 0
      },
      "text/plain": [
       "FloatProgress(value=0.0, bar_style='info', description='Progress:', layout=Layout(height='25px', width='50%'),…"
      ]
     },
     "metadata": {},
     "output_type": "display_data"
    },
    {
     "name": "stdout",
     "output_type": "stream",
     "text": [
      "+---------+--------------------+--------------------+----------+\n",
      "|sentiment|              tweets|         probability|prediction|\n",
      "+---------+--------------------+--------------------+----------+\n",
      "|        0|           FUCK YOU!|[0.94792657240952...|       0.0|\n",
      "|        0|        my head f...|[0.58909755930549...|       0.0|\n",
      "|        0|      My current ...|[0.88309888891999...|       0.0|\n",
      "|        0|     &lt;- but mu...|[0.13142297640123...|       1.0|\n",
      "|        0|     I dont like ...|[0.92396972239584...|       0.0|\n",
      "|        0|    awhhe man.......|[0.51391362600482...|       0.0|\n",
      "|        0|   Awwwwwh  i wan...|[0.90860359585344...|       0.0|\n",
      "|        0|   BoRinG   ): wh...|[0.78419618250192...|       0.0|\n",
      "|        0|   I am going to ...|[0.79703344108948...|       0.0|\n",
      "|        0|   I'm thinking o...|[0.27137601371047...|       1.0|\n",
      "+---------+--------------------+--------------------+----------+\n",
      "only showing top 10 rows"
     ]
    }
   ],
   "source": [
    "predictions.select(\"sentiment\", \"tweets\", \"probability\", \"prediction\").show(10)"
   ]
  },
  {
   "cell_type": "code",
   "execution_count": 12,
   "metadata": {
    "scrolled": true
   },
   "outputs": [
    {
     "data": {
      "application/vnd.jupyter.widget-view+json": {
       "model_id": "1784bea42943402cbbe36d30a1b17db0",
       "version_major": 2,
       "version_minor": 0
      },
      "text/plain": [
       "VBox()"
      ]
     },
     "metadata": {},
     "output_type": "display_data"
    },
    {
     "data": {
      "application/vnd.jupyter.widget-view+json": {
       "model_id": "",
       "version_major": 2,
       "version_minor": 0
      },
      "text/plain": [
       "FloatProgress(value=0.0, bar_style='info', description='Progress:', layout=Layout(height='25px', width='50%'),…"
      ]
     },
     "metadata": {},
     "output_type": "display_data"
    },
    {
     "name": "stdout",
     "output_type": "stream",
     "text": [
      "The accuracy of the model is 0.75%"
     ]
    }
   ],
   "source": [
    "# We evaluate the model\n",
    "evaluator = BinaryClassificationEvaluator()\n",
    "evaluator.setRawPredictionCol(\"prediction\")\n",
    "evaluator.setLabelCol(\"sentiment\")\n",
    "accuracy = evaluator.evaluate(predictions)\n",
    "print(f\"The accuracy of the model is {round(accuracy, 2)}%\")"
   ]
  },
  {
   "cell_type": "code",
   "execution_count": 13,
   "metadata": {
    "scrolled": true
   },
   "outputs": [
    {
     "data": {
      "application/vnd.jupyter.widget-view+json": {
       "model_id": "492d9ee8379840f198c6fdb7bcc3ee10",
       "version_major": 2,
       "version_minor": 0
      },
      "text/plain": [
       "VBox()"
      ]
     },
     "metadata": {},
     "output_type": "display_data"
    },
    {
     "data": {
      "application/vnd.jupyter.widget-view+json": {
       "model_id": "",
       "version_major": 2,
       "version_minor": 0
      },
      "text/plain": [
       "FloatProgress(value=0.0, bar_style='info', description='Progress:', layout=Layout(height='25px', width='50%'),…"
      ]
     },
     "metadata": {},
     "output_type": "display_data"
    }
   ],
   "source": [
    "# We save the model\n",
    "clf_path = \"s3://\" + bucket_name + \"/mpc_model\"\n",
    "clf_model.save(clf_path)"
   ]
  }
 ],
 "metadata": {
  "kernelspec": {
   "display_name": "PySpark",
   "language": "",
   "name": "pysparkkernel"
  },
  "language_info": {
   "codemirror_mode": {
    "name": "python",
    "version": 2
   },
   "mimetype": "text/x-python",
   "name": "pyspark",
   "pygments_lexer": "python2"
  }
 },
 "nbformat": 4,
 "nbformat_minor": 4
}
