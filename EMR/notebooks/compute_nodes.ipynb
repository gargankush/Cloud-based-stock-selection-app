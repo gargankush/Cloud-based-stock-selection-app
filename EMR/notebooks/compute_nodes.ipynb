{
 "cells": [
  {
   "cell_type": "code",
   "execution_count": 1,
   "metadata": {
    "scrolled": true
   },
   "outputs": [
    {
     "data": {
      "application/vnd.jupyter.widget-view+json": {
       "model_id": "27cfbeefa19b41f2b402659f67735fb1",
       "version_major": 2,
       "version_minor": 0
      },
      "text/plain": [
       "VBox()"
      ]
     },
     "metadata": {},
     "output_type": "display_data"
    },
    {
     "name": "stdout",
     "output_type": "stream",
     "text": [
      "Starting Spark application\n"
     ]
    },
    {
     "data": {
      "text/html": [
       "<table>\n",
       "<tr><th>ID</th><th>YARN Application ID</th><th>Kind</th><th>State</th><th>Spark UI</th><th>Driver log</th><th>Current session?</th></tr><tr><td>10</td><td>application_1604597248464_0015</td><td>pyspark</td><td>idle</td><td><a target=\"_blank\" href=\"http://ip-172-31-39-40.ec2.internal:20888/proxy/application_1604597248464_0015/\">Link</a></td><td><a target=\"_blank\" href=\"http://ip-172-31-39-40.ec2.internal:8042/node/containerlogs/container_1604597248464_0015_01_000001/livy\">Link</a></td><td>✔</td></tr></table>"
      ],
      "text/plain": [
       "<IPython.core.display.HTML object>"
      ]
     },
     "metadata": {},
     "output_type": "display_data"
    },
    {
     "data": {
      "application/vnd.jupyter.widget-view+json": {
       "model_id": "",
       "version_major": 2,
       "version_minor": 0
      },
      "text/plain": [
       "FloatProgress(value=0.0, bar_style='info', description='Progress:', layout=Layout(height='25px', width='50%'),…"
      ]
     },
     "metadata": {},
     "output_type": "display_data"
    },
    {
     "name": "stdout",
     "output_type": "stream",
     "text": [
      "SparkSession available as 'spark'.\n"
     ]
    },
    {
     "data": {
      "application/vnd.jupyter.widget-view+json": {
       "model_id": "",
       "version_major": 2,
       "version_minor": 0
      },
      "text/plain": [
       "FloatProgress(value=0.0, bar_style='info', description='Progress:', layout=Layout(height='25px', width='50%'),…"
      ]
     },
     "metadata": {},
     "output_type": "display_data"
    }
   ],
   "source": [
    "import numpy as np\n",
    "from pyspark.sql import SparkSession, Window\n",
    "from datetime import date, timedelta, datetime\n",
    "from pyspark.ml.feature import VectorAssembler\n",
    "from pyspark.ml.stat import Correlation\n",
    "from pyspark.sql.functions import col, udf, collect_list, dayofyear, lag, round, to_date\n",
    "from pyspark.sql.types import *\n",
    "\n",
    "bucket_name = \"web-app-project\"\n",
    "spark = SparkSession\\\n",
    "    .builder\\\n",
    "    .appName(\"write_nodes\")\\\n",
    "    .getOrCreate()\n",
    "\n",
    "today = date.today().isoformat()\n",
    "prices_path = \"s3://\" + bucket_name + \"/price-data-\" + today + \".csv\" \n",
    "df = spark.read.csv(prices_path, header=True)"
   ]
  },
  {
   "cell_type": "code",
   "execution_count": 2,
   "metadata": {
    "scrolled": true
   },
   "outputs": [
    {
     "data": {
      "application/vnd.jupyter.widget-view+json": {
       "model_id": "a399a4350cb5457caee4cb8ff7c863e6",
       "version_major": 2,
       "version_minor": 0
      },
      "text/plain": [
       "VBox()"
      ]
     },
     "metadata": {},
     "output_type": "display_data"
    },
    {
     "data": {
      "application/vnd.jupyter.widget-view+json": {
       "model_id": "",
       "version_major": 2,
       "version_minor": 0
      },
      "text/plain": [
       "FloatProgress(value=0.0, bar_style='info', description='Progress:', layout=Layout(height='25px', width='50%'),…"
      ]
     },
     "metadata": {},
     "output_type": "display_data"
    },
    {
     "name": "stdout",
     "output_type": "stream",
     "text": [
      "+------+-------------------+----+----+----+-----+------+\n",
      "|symbol|          timeframe|open|high| low|close|volume|\n",
      "+------+-------------------+----+----+----+-----+------+\n",
      "|    GE|               time|open|high| low|close|volume|\n",
      "|    GE|2020-04-27 20:00:00|6.44|6.44|6.44| 6.44|  7400|\n",
      "|    GE|2020-04-27 19:59:00|6.44|6.44|6.44| 6.44|  2100|\n",
      "|    GE|2020-04-27 19:58:00|6.44|6.44|6.44| 6.44|  4625|\n",
      "|    GE|2020-04-27 19:57:00|6.44|6.44|6.44| 6.44| 10600|\n",
      "+------+-------------------+----+----+----+-----+------+\n",
      "only showing top 5 rows"
     ]
    }
   ],
   "source": [
    "df.show(5)"
   ]
  },
  {
   "cell_type": "code",
   "execution_count": 3,
   "metadata": {
    "scrolled": false
   },
   "outputs": [
    {
     "data": {
      "application/vnd.jupyter.widget-view+json": {
       "model_id": "0c7c9fb573f741eaa73dd6a87ae1e560",
       "version_major": 2,
       "version_minor": 0
      },
      "text/plain": [
       "VBox()"
      ]
     },
     "metadata": {},
     "output_type": "display_data"
    },
    {
     "data": {
      "application/vnd.jupyter.widget-view+json": {
       "model_id": "",
       "version_major": 2,
       "version_minor": 0
      },
      "text/plain": [
       "FloatProgress(value=0.0, bar_style='info', description='Progress:', layout=Layout(height='25px', width='50%'),…"
      ]
     },
     "metadata": {},
     "output_type": "display_data"
    }
   ],
   "source": [
    "# filter data from last two weeks\n",
    "# two_weeks_ago = (date.today() - timedelta(days=13))\n",
    "# df = df.filter(to_date(df[\"timeframe\"]) > two_weeks_ago)\n",
    "\n",
    "# extract day of year from timestamp and aggregate by day\n",
    "df = df.withColumn(\"timeframe\", col(\"timeframe\").cast(TimestampType())) \\\n",
    ".withColumn(\"dayofyear\", dayofyear(\"timeframe\")) \\\n",
    ".groupBy(\"symbol\", \"dayofyear\") \\\n",
    ".agg({\"open\": \"avg\"}) \\\n",
    ".orderBy(\"symbol\", \"dayofyear\", ascending=[1, 1])\n",
    "\n",
    "# We compute the return percent for the open price between each consecutive day \n",
    "window = Window.partitionBy(\"symbol\").orderBy(\"dayofyear\")\n",
    "df = df.filter(df.dayofyear.isNotNull()) \\\n",
    ".withColumn(\"prev\", lag(col(\"avg(open)\"), 1).over(window)) \n",
    "df = df.withColumn(\"percent_change\", round((col(\"avg(open)\") - col(\"prev\")) / col(\"prev\") * 100, 2)) \\\n",
    ".filter(df.prev.isNotNull())"
   ]
  },
  {
   "cell_type": "code",
   "execution_count": 4,
   "metadata": {},
   "outputs": [
    {
     "data": {
      "application/vnd.jupyter.widget-view+json": {
       "model_id": "26910715de9f45379cf47dc54c09992c",
       "version_major": 2,
       "version_minor": 0
      },
      "text/plain": [
       "VBox()"
      ]
     },
     "metadata": {},
     "output_type": "display_data"
    },
    {
     "data": {
      "application/vnd.jupyter.widget-view+json": {
       "model_id": "",
       "version_major": 2,
       "version_minor": 0
      },
      "text/plain": [
       "FloatProgress(value=0.0, bar_style='info', description='Progress:', layout=Layout(height='25px', width='50%'),…"
      ]
     },
     "metadata": {},
     "output_type": "display_data"
    },
    {
     "name": "stdout",
     "output_type": "stream",
     "text": [
      "+------+---------+------------------+------------------+--------------+\n",
      "|symbol|dayofyear|         avg(open)|              prev|percent_change|\n",
      "+------+---------+------------------+------------------+--------------+\n",
      "|   BMY|        3|62.991150684931505|  63.4208204225352|         -0.68|\n",
      "|   BMY|        6|62.984082949308785|62.991150684931505|         -0.01|\n",
      "|   BMY|        7| 63.80465313901342|62.984082949308785|           1.3|\n",
      "|   BMY|        8| 64.31898832116785| 63.80465313901342|          0.81|\n",
      "|   BMY|        9| 65.34006199524941| 64.31898832116785|          1.59|\n",
      "+------+---------+------------------+------------------+--------------+\n",
      "only showing top 5 rows"
     ]
    }
   ],
   "source": [
    "df.show(5)"
   ]
  },
  {
   "cell_type": "code",
   "execution_count": 5,
   "metadata": {},
   "outputs": [
    {
     "data": {
      "application/vnd.jupyter.widget-view+json": {
       "model_id": "d9b99a66bc1f471896ac3fe244062416",
       "version_major": 2,
       "version_minor": 0
      },
      "text/plain": [
       "VBox()"
      ]
     },
     "metadata": {},
     "output_type": "display_data"
    },
    {
     "data": {
      "application/vnd.jupyter.widget-view+json": {
       "model_id": "",
       "version_major": 2,
       "version_minor": 0
      },
      "text/plain": [
       "FloatProgress(value=0.0, bar_style='info', description='Progress:', layout=Layout(height='25px', width='50%'),…"
      ]
     },
     "metadata": {},
     "output_type": "display_data"
    }
   ],
   "source": [
    "# We pivot the dataframe to compute a correlation matrix\n",
    "df = df.groupBy(\"dayofyear\") \\\n",
    ".pivot(\"symbol\") \\\n",
    ".agg({\"percent_change\": \"sum\"}) \\\n",
    ".orderBy(\"dayofyear\") \\\n",
    ".drop(\"dayofyear\")\n",
    "df = df.fillna(0)\n",
    "symbols = df.columns"
   ]
  },
  {
   "cell_type": "code",
   "execution_count": 6,
   "metadata": {},
   "outputs": [
    {
     "data": {
      "application/vnd.jupyter.widget-view+json": {
       "model_id": "f53f71192a61400a88882a008d7f42de",
       "version_major": 2,
       "version_minor": 0
      },
      "text/plain": [
       "VBox()"
      ]
     },
     "metadata": {},
     "output_type": "display_data"
    },
    {
     "data": {
      "application/vnd.jupyter.widget-view+json": {
       "model_id": "",
       "version_major": 2,
       "version_minor": 0
      },
      "text/plain": [
       "FloatProgress(value=0.0, bar_style='info', description='Progress:', layout=Layout(height='25px', width='50%'),…"
      ]
     },
     "metadata": {},
     "output_type": "display_data"
    },
    {
     "name": "stdout",
     "output_type": "stream",
     "text": [
      "+-----+-----+-----+-----+-----+-----+-----+-----+-----+-----+\n",
      "| AAPL| ABBV|  AES|  AFL|  AIG| AMAT|  AMD| AMZN| ATVI|   BA|\n",
      "+-----+-----+-----+-----+-----+-----+-----+-----+-----+-----+\n",
      "|-0.05| -0.3|-0.42| -0.1|-0.41|-1.17| 0.63|-0.26| -0.7| 0.22|\n",
      "|-0.23| 0.02| 0.18|-0.38| 0.29|-2.28|-0.28| 0.84| 1.71|-0.26|\n",
      "| 0.41| -0.1| 0.26| -0.6|-0.64| 2.43| 0.07| 0.49|  0.5| 2.02|\n",
      "| 0.68| 1.13| 0.41| 0.37| 1.46| 0.68|-1.03| 0.06| 1.15| -1.6|\n",
      "| 2.57| 0.15| 1.12|-0.46| 0.54| 0.22| 2.64| 0.24|-1.96|  1.1|\n",
      "| 0.81|-0.29|-0.31|-0.07| 0.34|-0.09|-1.05| -0.7|-0.25|-1.01|\n",
      "|  1.0|-1.17| 0.35|-0.23| 0.01|-0.24|  0.1|-0.01| 0.21|-0.04|\n",
      "| 0.25|-0.95| 0.09|  0.1| 0.87| 1.48|-0.49|-1.09| 1.15| 0.03|\n",
      "|-0.62| 1.55|  0.8| 0.08|-1.87|-1.42| 0.39|-0.34| -0.4|-0.33|\n",
      "| 0.39| 0.27|-0.16| 0.64| 1.25| 1.88| 1.89| 0.42| 0.63| 0.05|\n",
      "+-----+-----+-----+-----+-----+-----+-----+-----+-----+-----+\n",
      "only showing top 10 rows"
     ]
    }
   ],
   "source": [
    "df.select(df.columns[:10]).show(10)"
   ]
  },
  {
   "cell_type": "code",
   "execution_count": 7,
   "metadata": {},
   "outputs": [
    {
     "data": {
      "application/vnd.jupyter.widget-view+json": {
       "model_id": "b95466126b774834887037e2e5884719",
       "version_major": 2,
       "version_minor": 0
      },
      "text/plain": [
       "VBox()"
      ]
     },
     "metadata": {},
     "output_type": "display_data"
    },
    {
     "data": {
      "application/vnd.jupyter.widget-view+json": {
       "model_id": "",
       "version_major": 2,
       "version_minor": 0
      },
      "text/plain": [
       "FloatProgress(value=0.0, bar_style='info', description='Progress:', layout=Layout(height='25px', width='50%'),…"
      ]
     },
     "metadata": {},
     "output_type": "display_data"
    }
   ],
   "source": [
    "# We compute the correlation matrix\n",
    "assembler = VectorAssembler(inputCols=df.columns, outputCol=\"features\")\n",
    "df = assembler.transform(df).select(\"features\")\n",
    "matrix = Correlation.corr(df, \"features\")"
   ]
  },
  {
   "cell_type": "code",
   "execution_count": 8,
   "metadata": {
    "scrolled": true
   },
   "outputs": [
    {
     "data": {
      "application/vnd.jupyter.widget-view+json": {
       "model_id": "2130088e0a2c41378994aefcf2105989",
       "version_major": 2,
       "version_minor": 0
      },
      "text/plain": [
       "VBox()"
      ]
     },
     "metadata": {},
     "output_type": "display_data"
    },
    {
     "data": {
      "application/vnd.jupyter.widget-view+json": {
       "model_id": "",
       "version_major": 2,
       "version_minor": 0
      },
      "text/plain": [
       "FloatProgress(value=0.0, bar_style='info', description='Progress:', layout=Layout(height='25px', width='50%'),…"
      ]
     },
     "metadata": {},
     "output_type": "display_data"
    }
   ],
   "source": [
    "n = len(symbols)\n",
    "values = np.array(matrix.collect()[0][0].values).reshape(n,n)\n",
    "schema = StructType([\n",
    "    StructField(\"source\", StringType(), True),\n",
    "    StructField(\"target\", StringType(), True), \n",
    "    StructField(\"value\", FloatType(), True)\n",
    "    ])\n",
    "\n",
    "# The nodes values are in a symmetric matrix \n",
    "# Thus, we only keep the upper right triangle of the matrix\n",
    "rows = []\n",
    "for i in range(n):\n",
    "    for j in range(i+1, n):\n",
    "        rows.append((symbols[i], symbols[j], float(values[i][j])))\n",
    "        \n",
    "nodes_df = spark.createDataFrame(rows, schema)\n",
    "#test_df.count() == int((n * (n-1)) / 2)"
   ]
  },
  {
   "cell_type": "code",
   "execution_count": 9,
   "metadata": {},
   "outputs": [
    {
     "data": {
      "application/vnd.jupyter.widget-view+json": {
       "model_id": "144b7f3df2724d3087ba86767f66c239",
       "version_major": 2,
       "version_minor": 0
      },
      "text/plain": [
       "VBox()"
      ]
     },
     "metadata": {},
     "output_type": "display_data"
    },
    {
     "data": {
      "application/vnd.jupyter.widget-view+json": {
       "model_id": "",
       "version_major": 2,
       "version_minor": 0
      },
      "text/plain": [
       "FloatProgress(value=0.0, bar_style='info', description='Progress:', layout=Layout(height='25px', width='50%'),…"
      ]
     },
     "metadata": {},
     "output_type": "display_data"
    },
    {
     "name": "stdout",
     "output_type": "stream",
     "text": [
      "+------+------+------------+\n",
      "|source|target|       value|\n",
      "+------+------+------------+\n",
      "|  AAPL|  ABBV|  -0.0431814|\n",
      "|  AAPL|   AES| -0.17248283|\n",
      "|  AAPL|   AFL|    0.646242|\n",
      "|  AAPL|   AIG|   0.6827023|\n",
      "|  AAPL|  AMAT|-0.054861702|\n",
      "+------+------+------------+\n",
      "only showing top 5 rows"
     ]
    }
   ],
   "source": [
    "nodes_df.show(5)"
   ]
  },
  {
   "cell_type": "code",
   "execution_count": 10,
   "metadata": {},
   "outputs": [
    {
     "data": {
      "application/vnd.jupyter.widget-view+json": {
       "model_id": "5fd7982c65b0495fb8014210606d7960",
       "version_major": 2,
       "version_minor": 0
      },
      "text/plain": [
       "VBox()"
      ]
     },
     "metadata": {},
     "output_type": "display_data"
    },
    {
     "data": {
      "application/vnd.jupyter.widget-view+json": {
       "model_id": "",
       "version_major": 2,
       "version_minor": 0
      },
      "text/plain": [
       "FloatProgress(value=0.0, bar_style='info', description='Progress:', layout=Layout(height='25px', width='50%'),…"
      ]
     },
     "metadata": {},
     "output_type": "display_data"
    }
   ],
   "source": [
    "# We change to ordinal values : 1 mildly correlated, 2 strongly correlated and vice versa\n",
    "def ordinal_encoder(val):\n",
    "    if -0.5 <= val <= 0.5: return 0\n",
    "    if -0.7 <= val < -0.5: return -1\n",
    "    if val < -0.7: return -2\n",
    "    if 0.5 < val <= 0.7: return 1\n",
    "    if val > 0.7: return 2\n",
    "\n",
    "ordinal_encoder = udf(ordinal_encoder, StringType())\n",
    "nodes_df = nodes_df.withColumn(\"value\", ordinal_encoder(\"value\"))\n",
    "# we remove the low correlated nodes\n",
    "nodes_df = nodes_df.filter(nodes_df.value != 0)"
   ]
  },
  {
   "cell_type": "code",
   "execution_count": 11,
   "metadata": {
    "scrolled": true
   },
   "outputs": [
    {
     "data": {
      "application/vnd.jupyter.widget-view+json": {
       "model_id": "dad3a1bdcaa846049a76e33c2cbb8c94",
       "version_major": 2,
       "version_minor": 0
      },
      "text/plain": [
       "VBox()"
      ]
     },
     "metadata": {},
     "output_type": "display_data"
    },
    {
     "data": {
      "application/vnd.jupyter.widget-view+json": {
       "model_id": "",
       "version_major": 2,
       "version_minor": 0
      },
      "text/plain": [
       "FloatProgress(value=0.0, bar_style='info', description='Progress:', layout=Layout(height='25px', width='50%'),…"
      ]
     },
     "metadata": {},
     "output_type": "display_data"
    },
    {
     "name": "stdout",
     "output_type": "stream",
     "text": [
      "+------+------+-----+\n",
      "|source|target|value|\n",
      "+------+------+-----+\n",
      "|  AAPL|   AFL|    1|\n",
      "|  AAPL|   AIG|    1|\n",
      "|  AAPL|   AMD|   -1|\n",
      "|  AAPL|  AMZN|   -1|\n",
      "|  AAPL|  ATVI|   -1|\n",
      "+------+------+-----+\n",
      "only showing top 5 rows"
     ]
    }
   ],
   "source": [
    "nodes_df.show(5)"
   ]
  }
 ],
 "metadata": {
  "kernelspec": {
   "display_name": "PySpark",
   "language": "",
   "name": "pysparkkernel"
  },
  "language_info": {
   "codemirror_mode": {
    "name": "python",
    "version": 2
   },
   "mimetype": "text/x-python",
   "name": "pyspark",
   "pygments_lexer": "python2"
  }
 },
 "nbformat": 4,
 "nbformat_minor": 4
}
